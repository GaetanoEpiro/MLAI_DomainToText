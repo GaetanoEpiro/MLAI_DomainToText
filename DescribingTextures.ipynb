{
  "nbformat": 4,
  "nbformat_minor": 0,
  "metadata": {
    "colab": {
      "name": "DescribingTextures.ipynb",
      "provenance": [],
      "collapsed_sections": [],
      "authorship_tag": "ABX9TyN5lkPykppK1UbWl6YMxYeu"
    },
    "kernelspec": {
      "name": "python3",
      "display_name": "Python 3"
    },
    "language_info": {
      "name": "python"
    },
    "accelerator": "GPU"
  },
  "cells": [
    {
      "cell_type": "code",
      "execution_count": null,
      "metadata": {
        "id": "4ERuy1yrOY4t"
      },
      "outputs": [],
      "source": [
        "!git clone https://github.com/ChenyunWu/DescribingTextures.git"
      ]
    },
    {
      "cell_type": "code",
      "source": [
        "from google.colab import drive\n",
        "drive.mount('/content/drive')"
      ],
      "metadata": {
        "id": "SUmPB1aqQadn",
        "colab": {
          "base_uri": "https://localhost:8080/"
        },
        "outputId": "4edce518-172b-4590-e303-8a3f736a4011"
      },
      "execution_count": null,
      "outputs": [
        {
          "output_type": "stream",
          "name": "stdout",
          "text": [
            "Mounted at /content/drive\n"
          ]
        }
      ]
    },
    {
      "cell_type": "code",
      "source": [
        "!pip install allennlp\n",
        "!pip install yacs\n",
        "!pip install --upgrade google-cloud-storage"
      ],
      "metadata": {
        "id": "Rt1cZ-lrY3dU"
      },
      "execution_count": null,
      "outputs": []
    },
    {
      "cell_type": "code",
      "source": [
        "!python /content/DescribingTextures/models/triplet_match/train.py"
      ],
      "metadata": {
        "id": "dlXm08SIUH-9"
      },
      "execution_count": null,
      "outputs": []
    }
  ]
}