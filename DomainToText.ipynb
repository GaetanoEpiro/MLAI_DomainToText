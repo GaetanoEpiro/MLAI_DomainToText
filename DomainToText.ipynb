{
  "cells": [
    {
      "cell_type": "markdown",
      "metadata": {
        "id": "view-in-github",
        "colab_type": "text"
      },
      "source": [
        "<a href=\"https://colab.research.google.com/github/GaetanoEpiro/MLAI_DomainToText/blob/DescribingTextures/DomainToText.ipynb\" target=\"_parent\"><img src=\"https://colab.research.google.com/assets/colab-badge.svg\" alt=\"Open In Colab\"/></a>"
      ]
    },
    {
      "cell_type": "markdown",
      "metadata": {
        "id": "bT1sADj7Eo-b"
      },
      "source": [
        "**Clone repository from Github**"
      ]
    },
    {
      "cell_type": "code",
      "execution_count": null,
      "metadata": {
        "id": "LGSanmYOFyq3"
      },
      "outputs": [],
      "source": [
        "!git clone https://github.com/GaetanoEpiro/MLAI_DomainToText.git"
      ]
    },
    {
      "cell_type": "markdown",
      "source": [
        "**Install required libraries for the Describing Textures project**"
      ],
      "metadata": {
        "id": "FGxHKHq3x2a2"
      }
    },
    {
      "cell_type": "code",
      "source": [
        "!pip install allennlp\n",
        "!pip install yacs\n",
        "!pip install --upgrade google-cloud-storage"
      ],
      "metadata": {
        "id": "Iqmhk8CLx0tH"
      },
      "execution_count": null,
      "outputs": []
    },
    {
      "cell_type": "markdown",
      "metadata": {
        "id": "AIWQfJXDF5E9"
      },
      "source": [
        "**Move to the correct directory**"
      ]
    },
    {
      "cell_type": "code",
      "execution_count": null,
      "metadata": {
        "id": "8-Vm7ewtF4Wv"
      },
      "outputs": [],
      "source": [
        "%cd /content/MLAI_DomainToText/"
      ]
    },
    {
      "cell_type": "markdown",
      "metadata": {
        "id": "wMS70HWIGLGc"
      },
      "source": [
        "**Load Google Drive**"
      ]
    },
    {
      "cell_type": "code",
      "execution_count": null,
      "metadata": {
        "id": "3MVq_bN9GKjr"
      },
      "outputs": [],
      "source": [
        "from google.colab import drive\n",
        "drive.mount('/content/drive')"
      ]
    },
    {
      "cell_type": "markdown",
      "source": [
        "**Run Describing Textures**"
      ],
      "metadata": {
        "id": "jQqzpOz1yOq7"
      }
    },
    {
      "cell_type": "code",
      "source": [
        "!python /content/MLAI_DomainToText/DecribingTextures/models/triplet_match/train.py"
      ],
      "metadata": {
        "id": "WQYrQsRqyKqz"
      },
      "execution_count": null,
      "outputs": []
    },
    {
      "cell_type": "markdown",
      "source": [
        "**Install required libraries**"
      ],
      "metadata": {
        "id": "K4NgZF-QyVtH"
      }
    },
    {
      "cell_type": "code",
      "source": [
        "!pip install torch==1.7.0\n",
        "!pip install torchvision==0.8.0\n",
        "!pip install future==0.18.2\n",
        "!pip install Pillow==6.2.2\n",
        "!pip install numpy==1.17.0\n",
        "!pip install transformers==4.11.0\n",
        "!pip install tqdm==4.48.2"
      ],
      "metadata": {
        "id": "3SQuxqJtyVSX"
      },
      "execution_count": null,
      "outputs": []
    },
    {
      "cell_type": "markdown",
      "metadata": {
        "id": "BdddV1aDSnp-"
      },
      "source": [
        "**Run training**"
      ]
    },
    {
      "cell_type": "code",
      "execution_count": null,
      "metadata": {
        "id": "RYgNhuCOSW_l"
      },
      "outputs": [],
      "source": [
        "!python /content/MLAI_DomainToText/eval_ensamble.py --target='ArtPainting'"
      ]
    },
    {
      "cell_type": "code",
      "source": [
        "!python /content/MLAI_DomainToText/eval_ensamble.py --target='Photo'"
      ],
      "metadata": {
        "id": "J1pvuaubyePM"
      },
      "execution_count": null,
      "outputs": []
    },
    {
      "cell_type": "code",
      "source": [
        "!python /content/MLAI_DomainToText/eval_ensamble.py --target='Sketch'"
      ],
      "metadata": {
        "id": "RqrDSgP-yeHE"
      },
      "execution_count": null,
      "outputs": []
    },
    {
      "cell_type": "code",
      "source": [
        "!python /content/MLAI_DomainToText/eval_ensamble.py --target='Cartoon'"
      ],
      "metadata": {
        "id": "7fl8i1EMyd9p"
      },
      "execution_count": null,
      "outputs": []
    }
  ],
  "metadata": {
    "colab": {
      "collapsed_sections": [],
      "name": "DomainToText.ipynb",
      "provenance": [],
      "mount_file_id": "1b-fKBp8zHb7A1f941cr4bTYy3upOaQ7X",
      "authorship_tag": "ABX9TyOxU1waN8JykrnGRFr//sih",
      "include_colab_link": true
    },
    "kernelspec": {
      "display_name": "Python 3",
      "name": "python3"
    },
    "language_info": {
      "name": "python"
    },
    "accelerator": "GPU"
  },
  "nbformat": 4,
  "nbformat_minor": 0
}