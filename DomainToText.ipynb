{
  "nbformat": 4,
  "nbformat_minor": 0,
  "metadata": {
    "colab": {
      "name": "DomainToText.ipynb",
      "provenance": [],
      "collapsed_sections": [],
      "authorship_tag": "ABX9TyO7PKhJCFgAe9Wl3ZJMzOEn",
      "include_colab_link": true
    },
    "kernelspec": {
      "name": "python3",
      "display_name": "Python 3"
    },
    "language_info": {
      "name": "python"
    },
    "accelerator": "GPU"
  },
  "cells": [
    {
      "cell_type": "markdown",
      "metadata": {
        "id": "view-in-github",
        "colab_type": "text"
      },
      "source": [
        "<a href=\"https://colab.research.google.com/github/GaetanoEpiro/MLAI_DomainToText/blob/master/DomainToText.ipynb\" target=\"_parent\"><img src=\"https://colab.research.google.com/assets/colab-badge.svg\" alt=\"Open In Colab\"/></a>"
      ]
    },
    {
      "cell_type": "markdown",
      "source": [
        "**Install required libraries**"
      ],
      "metadata": {
        "id": "YS7DpkzcEg0Z"
      }
    },
    {
      "cell_type": "code",
      "source": [
        "!pip install torch==1.7.0\n",
        "!pip install torchvision==0.8.0\n",
        "!pip install future==0.18.2\n",
        "!pip install Pillow==6.2.2\n",
        "!pip install numpy==1.17.0\n",
        "!pip install transformers==4.11.0\n",
        "!pip install tqdm==4.48.2"
      ],
      "metadata": {
        "id": "3NGL-kWneR_I"
      },
      "execution_count": null,
      "outputs": []
    },
    {
      "cell_type": "markdown",
      "source": [
        "**Clone repository from Github**"
      ],
      "metadata": {
        "id": "bT1sADj7Eo-b"
      }
    },
    {
      "cell_type": "code",
      "source": [
        "!git clone https://github.com/GaetanoEpiro/MLAI_DomainToText.git"
      ],
      "metadata": {
        "id": "LGSanmYOFyq3"
      },
      "execution_count": null,
      "outputs": []
    },
    {
      "cell_type": "markdown",
      "source": [
        "**Move inside the correct directory**"
      ],
      "metadata": {
        "id": "AIWQfJXDF5E9"
      }
    },
    {
      "cell_type": "code",
      "source": [
        "%cd /content/MLAI_DomainToText/"
      ],
      "metadata": {
        "id": "8-Vm7ewtF4Wv",
        "colab": {
          "base_uri": "https://localhost:8080/"
        },
        "outputId": "64533e91-f4a6-4396-e0c7-f4639a04733f"
      },
      "execution_count": 10,
      "outputs": [
        {
          "output_type": "stream",
          "name": "stdout",
          "text": [
            "/content/MLAI_DomainToText\n"
          ]
        }
      ]
    },
    {
      "cell_type": "markdown",
      "source": [
        "**Load Google Drive**"
      ],
      "metadata": {
        "id": "wMS70HWIGLGc"
      }
    },
    {
      "cell_type": "code",
      "source": [
        "from google.colab import drive\n",
        "drive.mount('/content/drive')"
      ],
      "metadata": {
        "id": "3MVq_bN9GKjr"
      },
      "execution_count": null,
      "outputs": []
    },
    {
      "cell_type": "markdown",
      "source": [
        "**Run training**"
      ],
      "metadata": {
        "id": "BdddV1aDSnp-"
      }
    },
    {
      "cell_type": "code",
      "source": [
        "!python /content/MLAI_DomainToText/eval_ensamble.py"
      ],
      "metadata": {
        "id": "RYgNhuCOSW_l",
        "colab": {
          "base_uri": "https://localhost:8080/"
        },
        "outputId": "ed1b070f-be9d-438e-f0f8-ff2093131f11"
      },
      "execution_count": 18,
      "outputs": [
        {
          "output_type": "stream",
          "name": "stdout",
          "text": [
            "Namespace(gpu=0, num_classes=7, path_to_dataset='/content/MLAI_DomainToText/', path_to_txt='/content/MLAI_DomainToText/data/PACS', target='ArtPainting')\n",
            "Sources Cartoon, Photo, Sketch\n",
            "Downloading: \"https://download.pytorch.org/models/resnet18-5c106cde.pth\" to /root/.cache/torch/hub/checkpoints/resnet18-5c106cde.pth\n",
            "100% 44.7M/44.7M [00:00<00:00, 66.7MB/s]\n",
            "Model of Cartoon loaded \n",
            "Model of Photo loaded \n",
            "Model of Sketch loaded \n",
            "Downloading: \"https://download.pytorch.org/models/resnet101-5d3b4d8f.pth\" to /root/.cache/torch/hub/checkpoints/resnet101-5d3b4d8f.pth\n",
            "100% 170M/170M [00:01<00:00, 129MB/s]\n",
            "Downloading: 100% 226k/226k [00:00<00:00, 2.14MB/s]\n",
            "Downloading: 100% 28.0/28.0 [00:00<00:00, 19.0kB/s]\n",
            "Downloading: 100% 455k/455k [00:00<00:00, 2.69MB/s]\n",
            "Downloading: 100% 570/570 [00:00<00:00, 355kB/s]\n",
            "/usr/local/lib/python3.7/dist-packages/transformers/configuration_utils.py:337: UserWarning: Passing `gradient_checkpointing` to a config initialization is deprecated and will be removed in v5 Transformers. Using `model.gradient_checkpointing_enable()` instead, or if you are using the `Trainer` API, pass `gradient_checkpointing=True` in your `TrainingArguments`.\n",
            "  \"Passing `gradient_checkpointing` to a config initialization is deprecated and will be removed in v5 \"\n",
            "Downloading: 100% 420M/420M [00:11<00:00, 38.6MB/s]\n",
            "Some weights of the model checkpoint at bert-base-uncased were not used when initializing BertModel: ['cls.seq_relationship.bias', 'cls.predictions.bias', 'cls.predictions.transform.LayerNorm.bias', 'cls.predictions.transform.dense.bias', 'cls.predictions.transform.dense.weight', 'cls.predictions.decoder.weight', 'cls.predictions.transform.LayerNorm.weight', 'cls.seq_relationship.weight']\n",
            "- This IS expected if you are initializing BertModel from the checkpoint of a model trained on another task or with another architecture (e.g. initializing a BertForSequenceClassification model from a BertForPreTraining model).\n",
            "- This IS NOT expected if you are initializing BertModel from the checkpoint of a model that you expect to be exactly identical (initializing a BertForSequenceClassification model from a BertForSequenceClassification model).\n",
            "Model pretrained on Textures loaded\n",
            "100% 2344/2344 [01:27<00:00, 26.82it/s]\n",
            "100% 1670/1670 [01:01<00:00, 27.01it/s]\n",
            "100% 3929/3929 [02:25<00:00, 26.94it/s]\n",
            "Evaluation on the Target domain - ArtPainting\n",
            "100% 2048/2048 [01:57<00:00, 17.38it/s]\n",
            "Accuracy mean: 67.63 \n",
            "Accuracy text_domain_embedding: 70.21 \n"
          ]
        }
      ]
    }
  ]
}